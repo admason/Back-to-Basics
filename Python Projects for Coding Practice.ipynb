{
 "cells": [
  {
   "cell_type": "markdown",
   "metadata": {},
   "source": [
    "## Let us build an assortment of projects at a basic level.\n",
    "### It is always worth going over the basics, as a learners this is something we all do to review our foundations. Mathematicians go over basic algbra and calculus, Martial Artists practice forms.\n",
    "### Why not do the same as a programmer.\n",
    "### Here is a compilation of the building blocks of programming."
   ]
  },
  {
   "cell_type": "markdown",
   "metadata": {},
   "source": [
    "## No matter the level of mastery you hope to get to in Python, you'll need these fundamentals in place before you jump into any project.\n",
    "### You need to know how to:\n",
    "\n",
    "### declare variables\n",
    "### collect user input\n",
    "### store information\n",
    "### repeat an action through loops\n",
    "### write functions to repeat blocks of code"
   ]
  },
  {
   "cell_type": "markdown",
   "metadata": {},
   "source": [
    "## Project 1: Odd or Even\n",
    "### Welcome a user then ask them for a number between 1 and 1000.\n",
    "\n",
    "### When the user gives you the number, you check if it's odd or even and then you print a message letting them know.\n",
    "\n",
    "#### Example:\n",
    "\n",
    "#### Prompt: What number are you thinking?\n",
    "#### Input: 25\n",
    "#### Output: That's an odd number! Have another?  \n"
   ]
  },
  {
   "cell_type": "code",
   "execution_count": null,
   "metadata": {},
   "outputs": [],
   "source": [
    "number = int(input('What number are you thinking? '))\n",
    "def oddeven(number):\n",
    "    if number%2==0:\n",
    "        return \"That's an EVEN number! Have another?\"\n",
    "    else:\n",
    "        return \"That's an ODD number! Have another?\"\n",
    "print(oddeven(number))"
   ]
  },
  {
   "cell_type": "markdown",
   "metadata": {},
   "source": [
    "### The code is tidied up to give a smaller string \"EVEN\" or \"ODD\" as a return, which is incorporated into two print syntax."
   ]
  },
  {
   "cell_type": "code",
   "execution_count": null,
   "metadata": {},
   "outputs": [],
   "source": [
    "number = int(input('What number are you thinking? '))\n",
    "def oddeven(number):\n",
    "    if number%2==0:\n",
    "        return \"EVEN \"\n",
    "    else:\n",
    "        return \"ODD \"\n",
    "\n",
    "print('Your choice, {} is an {}number'.format(number,oddeven(number)))\n",
    "print(\"Your choice \", number, \"is an \", oddeven(number), \"number\")    "
   ]
  },
  {
   "cell_type": "markdown",
   "metadata": {},
   "source": [
    "# Project 2: MadLib generator.\n",
    "### Asks the user to provide key parts of a sentence and then constructs a story using the user inputs"
   ]
  },
  {
   "cell_type": "code",
   "execution_count": null,
   "metadata": {},
   "outputs": [],
   "source": [
    "# Loop back to this point once code finishes\n",
    "\n",
    "subject   = input(\"Enter subject \")\n",
    "noun      = input(\"Enter noun \")\n",
    "verb      = input(\"Enter verb \")\n",
    "#adjective = input(\"Enter advective \")\n",
    "feeling   = input(\"Enter feeling \")    \n",
    "    \n",
    "print(\"Be \", feeling, \"to the \", noun, \" when \",  verb)\n",
    "    \n",
    "    \n",
    "    \n",
    "   \n"
   ]
  },
  {
   "cell_type": "markdown",
   "metadata": {},
   "source": [
    "# Project 3:  Word Count\n",
    "Ask the user what's on their mind. Then after the user responds, count the number of words in the sentence and print that as an output.\n",
    "\n",
    "Example:\n",
    "\n",
    "Prompt: what's on your mind today?\n",
    "Input: well, it's just a day for me to be an expert in coding\n",
    "Output: oh nice, you just told me what's on your mind in 13 words!\n"
   ]
  },
  {
   "cell_type": "code",
   "execution_count": 13,
   "metadata": {},
   "outputs": [
    {
     "name": "stdout",
     "output_type": "stream",
     "text": [
      "What's on your mind today? 1 2 3 4 5\n",
      "oh nice, you just told me what's on your mind in 5  words\n"
     ]
    }
   ],
   "source": [
    "thoughts=input(\"What's on your mind today? \")\n",
    "wordcount =thoughts.count(\" \")+1\n",
    "print(\"oh nice, you just told me what's on your mind in\", wordcount,\" words\")"
   ]
  },
  {
   "cell_type": "markdown",
   "metadata": {},
   "source": [
    "### To take this a step further, open a file that is handed to you, count the number of words in there, then print it out.\n"
   ]
  },
  {
   "cell_type": "code",
   "execution_count": 22,
   "metadata": {},
   "outputs": [
    {
     "name": "stdout",
     "output_type": "stream",
     "text": [
      "The wordcount is: 1268\n"
     ]
    }
   ],
   "source": [
    "import csv\n",
    "import string\n",
    "\n",
    "text = open('declaration.txt').read()\n",
    "wordcount =text.count(\" \")+1\n",
    "print(\"The wordcount is:\", wordcount)"
   ]
  },
  {
   "cell_type": "markdown",
   "metadata": {},
   "source": [
    "## Adapt the word count for specific words"
   ]
  },
  {
   "cell_type": "code",
   "execution_count": 25,
   "metadata": {},
   "outputs": [
    {
     "name": "stdout",
     "output_type": "stream",
     "text": [
      "Enter word: a\n",
      "There are  476  occurances of  ' a '\n"
     ]
    }
   ],
   "source": [
    "import csv\n",
    "import string\n",
    "word = input(\"Enter word: \")\n",
    "text = open('declaration.txt').read()\n",
    "count = text.count(word)\n",
    "print(\"There are \", count, \" occurances of \", \"'\", word, \"'\")"
   ]
  },
  {
   "cell_type": "markdown",
   "metadata": {},
   "source": [
    "# Project 4: Biography info\n",
    "## Ask a user for their personal information one question at a time. Then check that the information they entered is valid. Finally, print a summary of all the information they entered back to them.\n",
    "\n",
    "Example: What is your name? If the user enters * you prompt them that the input is wrong, and ask them to enter a valid name.\n",
    "\n",
    "At the end you print a summary that looks like this:\n",
    "\n",
    "- Name: John Doe\n",
    "- Date of birth: Jan 1, 1954\n",
    "- Address: 24 fifth Ave, NY\n",
    "- Personal goals: To be the best programmer there ever was."
   ]
  },
  {
   "cell_type": "code",
   "execution_count": 47,
   "metadata": {},
   "outputs": [
    {
     "name": "stdout",
     "output_type": "stream",
     "text": [
      "What is the name? John Doe\n",
      "Date of birth? 1954/1/1\n",
      "What is the address? 24 fifth Avenue\n",
      "Goals? gdfg programmer\n",
      "OK\n"
     ]
    }
   ],
   "source": [
    "# Step 1: define the correct variables\n",
    "NAME = 'John Doe'\n",
    "DATE_OF_BIRTH = '1954/1/1'\n",
    "ADDRESS = '24 fifth Avenue'\n",
    "GOAL = 'To be the best programmer there ever was.'\n",
    "\n",
    "# Step 2: ask user to confirm\n",
    "name = input('What is the name? ')\n",
    "DOB  = input('Date of birth? ')\n",
    "address = input('What is the address? ')\n",
    "goal = input('Goals? ')\n",
    "\n",
    "# Define function\n",
    "def infocheck(name, DOB, address,goal):\n",
    "    if name == 'John Doe':\n",
    "        if DOB == '1954/1/1': \n",
    "            if address== '24 fifth Avenue':\n",
    "                if goal.count('programmer')<=1:\n",
    "                    return \"OK\"\n",
    "                \n",
    "            else:\n",
    "                return \"Check again\"\n",
    "print(infocheck(name, DOB, address,goal))\n"
   ]
  },
  {
   "cell_type": "markdown",
   "metadata": {},
   "source": [
    "# Project 5: What's my acronym?\n",
    "Ask the user to enter the full meaning of an organization or concept and you'll provide the acronym to the user. For example:\n",
    "\n",
    "### Input -> As Soon As Possible. Output -> ASAP.\n",
    "### Input -> World Health Organization. Output -> WHO.\n",
    "### Input -> Absent Without Leave. Output -> AWOL."
   ]
  },
  {
   "cell_type": "code",
   "execution_count": 178,
   "metadata": {},
   "outputs": [
    {
     "name": "stdout",
     "output_type": "stream",
     "text": [
      "Enter name: adam masr maso\n",
      "The ackronym for  adam masr maso is  A.M.M\n"
     ]
    }
   ],
   "source": [
    "name = input(\"Enter name: \")\n",
    "splitCAP = name.upper().split()   # converts txt into upper case and splits into words\n",
    "#splitCAP\n",
    "initials = \".\".join(name[0] for name in splitCAP)  # for each word in splitCAP list join the first letter\n",
    "print(\"The ackronym for \", name, \"is \",initials)"
   ]
  },
  {
   "cell_type": "code",
   "execution_count": null,
   "metadata": {},
   "outputs": [],
   "source": []
  },
  {
   "cell_type": "code",
   "execution_count": null,
   "metadata": {},
   "outputs": [],
   "source": []
  },
  {
   "cell_type": "code",
   "execution_count": null,
   "metadata": {},
   "outputs": [],
   "source": []
  },
  {
   "cell_type": "code",
   "execution_count": null,
   "metadata": {},
   "outputs": [],
   "source": []
  },
  {
   "cell_type": "code",
   "execution_count": null,
   "metadata": {},
   "outputs": [],
   "source": []
  },
  {
   "cell_type": "code",
   "execution_count": null,
   "metadata": {},
   "outputs": [],
   "source": []
  },
  {
   "cell_type": "code",
   "execution_count": null,
   "metadata": {},
   "outputs": [],
   "source": []
  },
  {
   "cell_type": "code",
   "execution_count": null,
   "metadata": {},
   "outputs": [],
   "source": []
  },
  {
   "cell_type": "code",
   "execution_count": null,
   "metadata": {},
   "outputs": [],
   "source": []
  },
  {
   "cell_type": "code",
   "execution_count": null,
   "metadata": {},
   "outputs": [],
   "source": []
  },
  {
   "cell_type": "code",
   "execution_count": null,
   "metadata": {},
   "outputs": [],
   "source": []
  },
  {
   "cell_type": "code",
   "execution_count": null,
   "metadata": {},
   "outputs": [],
   "source": []
  },
  {
   "cell_type": "code",
   "execution_count": null,
   "metadata": {},
   "outputs": [],
   "source": []
  },
  {
   "cell_type": "code",
   "execution_count": null,
   "metadata": {},
   "outputs": [],
   "source": []
  },
  {
   "cell_type": "code",
   "execution_count": null,
   "metadata": {},
   "outputs": [],
   "source": []
  },
  {
   "cell_type": "code",
   "execution_count": null,
   "metadata": {},
   "outputs": [],
   "source": []
  },
  {
   "cell_type": "code",
   "execution_count": null,
   "metadata": {},
   "outputs": [],
   "source": []
  }
 ],
 "metadata": {
  "kernelspec": {
   "display_name": "Python 3",
   "language": "python",
   "name": "python3"
  },
  "language_info": {
   "codemirror_mode": {
    "name": "ipython",
    "version": 3
   },
   "file_extension": ".py",
   "mimetype": "text/x-python",
   "name": "python",
   "nbconvert_exporter": "python",
   "pygments_lexer": "ipython3",
   "version": "3.7.1"
  }
 },
 "nbformat": 4,
 "nbformat_minor": 2
}
